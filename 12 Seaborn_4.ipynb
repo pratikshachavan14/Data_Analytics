{
 "cells": [
  {
   "cell_type": "code",
   "execution_count": 1,
   "id": "107e219d-d3b8-459d-90f7-2cf28c6bc7aa",
   "metadata": {},
   "outputs": [],
   "source": [
    "import pandas as pd \n",
    "import numpy as np \n",
    "import datetime \n",
    "import matplotlib.pyplot as plt \n",
    "import seaborn as sns"
   ]
  },
  {
   "cell_type": "code",
   "execution_count": 2,
   "id": "70beb3d7-e9da-45a3-828d-2cc70967bc58",
   "metadata": {},
   "outputs": [],
   "source": [
    "df = pd.read_csv('MS_Dhoni_ODI_record.csv')"
   ]
  },
  {
   "cell_type": "code",
   "execution_count": 3,
   "id": "5dfc3d05-9dec-4350-8368-8b0e5190b17e",
   "metadata": {},
   "outputs": [
    {
     "name": "stdout",
     "output_type": "stream",
     "text": [
      "  score runs_scored balls_faced strike_rate fours sixes    opposition  \\\n",
      "0     0           0           1           0     0     0  v Bangladesh   \n",
      "1    12          12          11      109.09     2     0  v Bangladesh   \n",
      "2    7*           7           2         350     0     1  v Bangladesh   \n",
      "3     3           3           7       42.85     0     0    v Pakistan   \n",
      "4   148         148         123      120.32    15     4    v Pakistan   \n",
      "\n",
      "          ground        date  odi_number  \n",
      "0     Chattogram  23/12/2004  ODI # 2199  \n",
      "1          Dhaka  26/12/2004  ODI # 2201  \n",
      "2          Dhaka  27/12/2004  ODI # 2202  \n",
      "3          Kochi  02/04/2005  ODI # 2235  \n",
      "4  Visakhapatnam  05/04/2005  ODI # 2236  \n",
      "    score runs_scored balls_faced strike_rate fours sixes     opposition  \\\n",
      "345   56*          56          61        91.8     3     2  v West Indies   \n",
      "346   42*          42          31      135.48     4     1      v England   \n",
      "347    35          35          33      106.06     4     0   v Bangladesh   \n",
      "348   DNB           -           -           -     -     -    v Sri Lanka   \n",
      "349    50          50          72       69.44     1     1  v New Zealand   \n",
      "\n",
      "         ground        date  odi_number  \n",
      "345  Manchester  27/06/2019  ODI # 4175  \n",
      "346  Birmingham  30/06/2019  ODI # 4179  \n",
      "347  Birmingham  02/07/2019  ODI # 4182  \n",
      "348       Leeds  06/07/2019  ODI # 4187  \n",
      "349  Manchester  09/07/2019  ODI # 4190  \n"
     ]
    }
   ],
   "source": [
    "# Basic checks\n",
    "print(df.head())\n",
    "print(df.tail())"
   ]
  },
  {
   "cell_type": "code",
   "execution_count": 4,
   "id": "266d72f6-7ffd-4ff4-902b-25994122d72d",
   "metadata": {},
   "outputs": [],
   "source": [
    "# Data cleaning - Opposition name says 'v Aus' etc, we can remove 'v '\n",
    "df['opposition'] = df['opposition'].apply(lambda x: x[2:])"
   ]
  },
  {
   "cell_type": "code",
   "execution_count": 5,
   "id": "f298dc7a-3899-471b-aecc-f8bbf818fe1a",
   "metadata": {},
   "outputs": [],
   "source": [
    "# Add a 'feature' - 'year' column using the match date column\n",
    "# First convert date column into datetime format\n",
    "df['date'] = pd.to_datetime(df['date'], dayfirst=True) \n",
    "df['year'] = df['date'].dt.year.astype(int)\n",
    "#print(df.head())"
   ]
  },
  {
   "cell_type": "code",
   "execution_count": 6,
   "id": "a42524b5-76e5-4beb-9fec-bdfc14b38727",
   "metadata": {},
   "outputs": [],
   "source": [
    "# Create a column to distinguish between out and not out"
   ]
  },
  {
   "cell_type": "code",
   "execution_count": 7,
   "id": "ad05c61a-8770-4818-a3b9-c726a926b52d",
   "metadata": {},
   "outputs": [],
   "source": [
    "# The apply method in Pandas allows you to apply a function to each element in a DataFrame or Series. In this case, the function being applied is str, which is the built-in Python function for converting values into strings. By applying str to each element in the 'score' column, we are converting the numerical or other data types in that column into string data types.\n",
    "df['score'] = df['score'].apply(str) \n",
    "df['not_out'] = np.where(df['score'].str.endswith('*'), 1, 0)"
   ]
  },
  {
   "cell_type": "code",
   "execution_count": 8,
   "id": "d5a9ac01-b381-4fdd-9b97-aae718f020f5",
   "metadata": {},
   "outputs": [],
   "source": [
    "# dropping the odi_number feature because it adds no value to the analysis\n",
    "df.drop(columns='odi_number', inplace=True)"
   ]
  },
  {
   "cell_type": "code",
   "execution_count": 9,
   "id": "9c2770e4-cf17-4aa0-8728-ddcb250b56b3",
   "metadata": {},
   "outputs": [],
   "source": [
    "# dropping those innings where Dhoni did not bat and storing in a new DataFrame \n",
    "# Take all the columns, starting with runs_scored\n",
    "df_new = df.loc[((df['score'] != 'DNB') & (df['score'] != 'TDNB')), 'runs_scored':]\n",
    "#print(df_new.head())"
   ]
  },
  {
   "cell_type": "code",
   "execution_count": 10,
   "id": "07145e8e-133d-48c2-8416-0b8981efe504",
   "metadata": {},
   "outputs": [],
   "source": [
    "# fixing the data types of numerical columns \n",
    "df_new['runs_scored'] = df_new['runs_scored'].astype(int)\n",
    "df_new['balls_faced'] = df_new['balls_faced'].astype(int) \n",
    "df_new['strike_rate'] = df_new['strike_rate'].astype(float) \n",
    "df_new['fours'] = df_new['fours'].astype(int) \n",
    "df_new['sixes'] = df_new['sixes'].astype(int)"
   ]
  },
  {
   "cell_type": "code",
   "execution_count": 11,
   "id": "891f037f-1c1f-4fa1-9a16-fe7f20c80ab6",
   "metadata": {},
   "outputs": [
    {
     "name": "stdout",
     "output_type": "stream",
     "text": [
      "First match: December 23, 2004\n",
      "Last match: July 09, 2019\n",
      "Number of matches played: 350\n",
      "Number of innings played: 297\n",
      "Not outs: 84\n",
      "Runs scored in career: 10773\n",
      "Balls faced in career: 12303\n",
      "Career strike rate: 87.56\n",
      "Career average: 50.58\n",
      "Highest score in career: 183 *\n",
      "Number of 100s: 10\n",
      "Number of 50s: 73\n",
      "Number of 4s: 826\n",
      "Number of 6s: 229\n"
     ]
    }
   ],
   "source": [
    "# Career stats\n",
    "first_match_date = df['date'].dt.date.min().strftime('%B %d, %Y') # first match\n",
    "print('First match:', first_match_date)\n",
    "last_match_date = df['date'].dt.date.max().strftime('%B %d, %Y') # last match\n",
    "print('Last match:', last_match_date)\n",
    "number_of_matches = df.shape[0] # number of mathces played in career\n",
    "print('Number of matches played:', number_of_matches)\n",
    "number_of_inns = df_new.shape[0] # number of innings\n",
    "print('Number of innings played:', number_of_inns)\n",
    "not_outs = df_new['not_out'].sum() # number of not outs in career\n",
    "print('Not outs:', not_outs)\n",
    "runs_scored = df_new['runs_scored'].sum() # runs scored in career\n",
    "print('Runs scored in career:', runs_scored)\n",
    "balls_faced = df_new['balls_faced'].sum() # balls faced in career\n",
    "print('Balls faced in career:', balls_faced)\n",
    "career_sr = (runs_scored / balls_faced)*100 # career strike rate\n",
    "print('Career strike rate: {:.2f}'.format(career_sr))\n",
    "career_avg = (runs_scored / (number_of_inns - not_outs)) # career average\n",
    "print('Career average: {:.2f}'.format(career_avg))\n",
    "#highest_score_date = df_new.loc[df_new.runs_scored == df_new.runs_scored.max(), 'date'].values[0]\n",
    "#highest_score = df.loc[df.date == highest_score_date, 'score'].values[0] # highest score\n",
    "highest_score = df_new['runs_scored'].max()\n",
    "not_out_for_highest = (\n",
    "    df_new[df_new['runs_scored'] == highest_score]['not_out']\n",
    "    .replace([1, 0], [\"*\", \"\"])  # Replace 1 with *, 0 with null\n",
    "    .iloc[0]\n",
    ")\n",
    "print('Highest score in career:', highest_score, not_out_for_highest)\n",
    "hundreds = (df_new['runs_scored'] >= 100).sum()\n",
    "# hundreds = df_new.loc[df_new['runs_scored'] >= 100].shape[0] # number of 100s\n",
    "print('Number of 100s:', hundreds)\n",
    "fifties = ((df_new['runs_scored'] >= 50) & (df_new['runs_scored'] < 100)).sum()\n",
    "# fifties = df_new.loc[(df_new['runs_scored']>=50)&(df_new['runs_scored']<100)].shape[0] #number of 50s\n",
    "print('Number of 50s:', fifties)\n",
    "fours = df_new['fours'].sum() # number of fours in career\n",
    "print('Number of 4s:', fours)\n",
    "sixes = df_new['sixes'].sum() # number of sixes in career\n",
    "print('Number of 6s:', sixes)"
   ]
  },
  {
   "cell_type": "code",
   "execution_count": 12,
   "id": "04954ba7-6676-4884-92cc-7d53c936f35f",
   "metadata": {},
   "outputs": [
    {
     "name": "stdout",
     "output_type": "stream",
     "text": [
      "Sri Lanka       67\n",
      "Australia       55\n",
      "England         48\n",
      "West Indies     39\n",
      "South Africa    37\n",
      "Pakistan        36\n",
      "New Zealand     28\n",
      "Bangladesh      21\n",
      "Zimbabwe         6\n",
      "Africa XI        3\n",
      "Hong Kong        2\n",
      "Ireland          2\n",
      "Afghanistan      2\n",
      "Bermuda          1\n",
      "Scotland         1\n",
      "Netherlands      1\n",
      "U.A.E.           1\n",
      "Name: opposition, dtype: int64\n"
     ]
    },
    {
     "data": {
      "image/png": "[encoded data removed]",
      "text/plain": [
       "<Figure size 800x500 with 1 Axes>"
      ]
     },
     "metadata": {},
     "output_type": "display_data"
    }
   ],
   "source": [
    "# number of matches played against different oppositions\n",
    "# Count the occurrences of each unique value in the 'opposition' column\n",
    "# opposition_counts will be a series with a labelled index as opposition\n",
    "opposition_counts = df['opposition'].value_counts()\n",
    "print(opposition_counts)\n",
    "# Plot the counts as a bar plot\n",
    "opposition_counts.plot(kind='bar', title='Number of matches against different oppositions', figsize=(8, 5))\n",
    "plt.show()"
   ]
  }
 ],
 "metadata": {
  "kernelspec": {
   "display_name": "Python 3 (ipykernel)",
   "language": "python",
   "name": "python3"
  },
  "language_info": {
   "codemirror_mode": {
    "name": "ipython",
    "version": 3
   },
   "file_extension": ".py",
   "mimetype": "text/x-python",
   "name": "python",
   "nbconvert_exporter": "python",
   "pygments_lexer": "ipython3",
   "version": "3.11.7"
  }
 },
 "nbformat": 4,
 "nbformat_minor": 5
}
